{
  "nbformat": 4,
  "nbformat_minor": 0,
  "metadata": {
    "colab": {
      "name": "[Week2]BPR",
      "provenance": [],
      "collapsed_sections": [],
      "include_colab_link": true
    },
    "kernelspec": {
      "name": "python3",
      "display_name": "Python 3"
    },
    "accelerator": "GPU",
    "widgets": {
      "application/vnd.jupyter.widget-state+json": {
        "02b118a689a845b59dff270edf9f1653": {
          "model_module": "@jupyter-widgets/controls",
          "model_name": "HBoxModel",
          "state": {
            "_view_name": "HBoxView",
            "_dom_classes": [],
            "_model_name": "HBoxModel",
            "_view_module": "@jupyter-widgets/controls",
            "_model_module_version": "1.5.0",
            "_view_count": null,
            "_view_module_version": "1.5.0",
            "box_style": "",
            "layout": "IPY_MODEL_7822afbb5f574bcf8dae9d99daee3bfc",
            "_model_module": "@jupyter-widgets/controls",
            "children": [
              "IPY_MODEL_3196bf7d264144a6b446aa1021524c72",
              "IPY_MODEL_f536770895c64fbba1181a6297fc7d60"
            ]
          }
        },
        "7822afbb5f574bcf8dae9d99daee3bfc": {
          "model_module": "@jupyter-widgets/base",
          "model_name": "LayoutModel",
          "state": {
            "_view_name": "LayoutView",
            "grid_template_rows": null,
            "right": null,
            "justify_content": null,
            "_view_module": "@jupyter-widgets/base",
            "overflow": null,
            "_model_module_version": "1.2.0",
            "_view_count": null,
            "flex_flow": null,
            "width": null,
            "min_width": null,
            "border": null,
            "align_items": null,
            "bottom": null,
            "_model_module": "@jupyter-widgets/base",
            "top": null,
            "grid_column": null,
            "overflow_y": null,
            "overflow_x": null,
            "grid_auto_flow": null,
            "grid_area": null,
            "grid_template_columns": null,
            "flex": null,
            "_model_name": "LayoutModel",
            "justify_items": null,
            "grid_row": null,
            "max_height": null,
            "align_content": null,
            "visibility": null,
            "align_self": null,
            "height": null,
            "min_height": null,
            "padding": null,
            "grid_auto_rows": null,
            "grid_gap": null,
            "max_width": null,
            "order": null,
            "_view_module_version": "1.2.0",
            "grid_template_areas": null,
            "object_position": null,
            "object_fit": null,
            "grid_auto_columns": null,
            "margin": null,
            "display": null,
            "left": null
          }
        },
        "3196bf7d264144a6b446aa1021524c72": {
          "model_module": "@jupyter-widgets/controls",
          "model_name": "FloatProgressModel",
          "state": {
            "_view_name": "ProgressView",
            "style": "IPY_MODEL_dfe316d83cfc4dd0a621b0c21b6c4dbf",
            "_dom_classes": [],
            "description": "100%",
            "_model_name": "FloatProgressModel",
            "bar_style": "success",
            "max": 943,
            "_view_module": "@jupyter-widgets/controls",
            "_model_module_version": "1.5.0",
            "value": 943,
            "_view_count": null,
            "_view_module_version": "1.5.0",
            "orientation": "horizontal",
            "min": 0,
            "description_tooltip": null,
            "_model_module": "@jupyter-widgets/controls",
            "layout": "IPY_MODEL_fc8d8f7e724b44bfaf33d0fdcad63284"
          }
        },
        "f536770895c64fbba1181a6297fc7d60": {
          "model_module": "@jupyter-widgets/controls",
          "model_name": "HTMLModel",
          "state": {
            "_view_name": "HTMLView",
            "style": "IPY_MODEL_a395ec8301f14c9684190fda3f3da496",
            "_dom_classes": [],
            "description": "",
            "_model_name": "HTMLModel",
            "placeholder": "​",
            "_view_module": "@jupyter-widgets/controls",
            "_model_module_version": "1.5.0",
            "value": " 943/943 [00:37&lt;00:00, 24.97it/s]",
            "_view_count": null,
            "_view_module_version": "1.5.0",
            "description_tooltip": null,
            "_model_module": "@jupyter-widgets/controls",
            "layout": "IPY_MODEL_dd7d02ea8c224f02b7271b520a8f6fb2"
          }
        },
        "dfe316d83cfc4dd0a621b0c21b6c4dbf": {
          "model_module": "@jupyter-widgets/controls",
          "model_name": "ProgressStyleModel",
          "state": {
            "_view_name": "StyleView",
            "_model_name": "ProgressStyleModel",
            "description_width": "initial",
            "_view_module": "@jupyter-widgets/base",
            "_model_module_version": "1.5.0",
            "_view_count": null,
            "_view_module_version": "1.2.0",
            "bar_color": null,
            "_model_module": "@jupyter-widgets/controls"
          }
        },
        "fc8d8f7e724b44bfaf33d0fdcad63284": {
          "model_module": "@jupyter-widgets/base",
          "model_name": "LayoutModel",
          "state": {
            "_view_name": "LayoutView",
            "grid_template_rows": null,
            "right": null,
            "justify_content": null,
            "_view_module": "@jupyter-widgets/base",
            "overflow": null,
            "_model_module_version": "1.2.0",
            "_view_count": null,
            "flex_flow": null,
            "width": null,
            "min_width": null,
            "border": null,
            "align_items": null,
            "bottom": null,
            "_model_module": "@jupyter-widgets/base",
            "top": null,
            "grid_column": null,
            "overflow_y": null,
            "overflow_x": null,
            "grid_auto_flow": null,
            "grid_area": null,
            "grid_template_columns": null,
            "flex": null,
            "_model_name": "LayoutModel",
            "justify_items": null,
            "grid_row": null,
            "max_height": null,
            "align_content": null,
            "visibility": null,
            "align_self": null,
            "height": null,
            "min_height": null,
            "padding": null,
            "grid_auto_rows": null,
            "grid_gap": null,
            "max_width": null,
            "order": null,
            "_view_module_version": "1.2.0",
            "grid_template_areas": null,
            "object_position": null,
            "object_fit": null,
            "grid_auto_columns": null,
            "margin": null,
            "display": null,
            "left": null
          }
        },
        "a395ec8301f14c9684190fda3f3da496": {
          "model_module": "@jupyter-widgets/controls",
          "model_name": "DescriptionStyleModel",
          "state": {
            "_view_name": "StyleView",
            "_model_name": "DescriptionStyleModel",
            "description_width": "",
            "_view_module": "@jupyter-widgets/base",
            "_model_module_version": "1.5.0",
            "_view_count": null,
            "_view_module_version": "1.2.0",
            "_model_module": "@jupyter-widgets/controls"
          }
        },
        "dd7d02ea8c224f02b7271b520a8f6fb2": {
          "model_module": "@jupyter-widgets/base",
          "model_name": "LayoutModel",
          "state": {
            "_view_name": "LayoutView",
            "grid_template_rows": null,
            "right": null,
            "justify_content": null,
            "_view_module": "@jupyter-widgets/base",
            "overflow": null,
            "_model_module_version": "1.2.0",
            "_view_count": null,
            "flex_flow": null,
            "width": null,
            "min_width": null,
            "border": null,
            "align_items": null,
            "bottom": null,
            "_model_module": "@jupyter-widgets/base",
            "top": null,
            "grid_column": null,
            "overflow_y": null,
            "overflow_x": null,
            "grid_auto_flow": null,
            "grid_area": null,
            "grid_template_columns": null,
            "flex": null,
            "_model_name": "LayoutModel",
            "justify_items": null,
            "grid_row": null,
            "max_height": null,
            "align_content": null,
            "visibility": null,
            "align_self": null,
            "height": null,
            "min_height": null,
            "padding": null,
            "grid_auto_rows": null,
            "grid_gap": null,
            "max_width": null,
            "order": null,
            "_view_module_version": "1.2.0",
            "grid_template_areas": null,
            "object_position": null,
            "object_fit": null,
            "grid_auto_columns": null,
            "margin": null,
            "display": null,
            "left": null
          }
        }
      }
    }
  },
  "cells": [
    {
      "cell_type": "markdown",
      "metadata": {
        "id": "view-in-github",
        "colab_type": "text"
      },
      "source": [
        "<a href=\"https://colab.research.google.com/github/kimyuji2/-KAIST_DSAIL-RC/blob/main/%5BWeek2%5DBPR.ipynb\" target=\"_parent\"><img src=\"https://colab.research.google.com/assets/colab-badge.svg\" alt=\"Open In Colab\"/></a>"
      ]
    },
    {
      "cell_type": "markdown",
      "metadata": {
        "id": "frTd3uky8kLX"
      },
      "source": [
        "### BPR 노션 정리\r\n",
        "https://www.notion.so/BPR-Bayesian-Personalized-Ranking-for-Implicit-Feedback-3f78ca28cdec4934a153145cb0d34f08"
      ]
    },
    {
      "cell_type": "code",
      "metadata": {
        "id": "mDaN9qtZlXUJ"
      },
      "source": [
        "import torch\r\n",
        "import random\r\n",
        "import pandas as pd\r\n",
        "import numpy as np\r\n",
        "from sklearn.metrics import roc_auc_score\r\n",
        "from sklearn.model_selection import train_test_split\r\n",
        "from tqdm import tqdm_notebook\r\n",
        "device = torch.device('cuda' if torch.cuda.is_available() else 'cpu')"
      ],
      "execution_count": null,
      "outputs": []
    },
    {
      "cell_type": "code",
      "metadata": {
        "id": "RfZaRIBrfcZy",
        "colab": {
          "base_uri": "https://localhost:8080/"
        },
        "outputId": "68dcf26b-0f4c-4a77-a995-fd1b50d615c8"
      },
      "source": [
        "from google.colab import drive\r\n",
        "drive.mount('/content/drive')"
      ],
      "execution_count": null,
      "outputs": [
        {
          "output_type": "stream",
          "text": [
            "Mounted at /content/drive\n"
          ],
          "name": "stdout"
        }
      ]
    },
    {
      "cell_type": "code",
      "metadata": {
        "id": "gHcfYNlUzdvK"
      },
      "source": [
        "# Hyper parameters\r\n",
        "lr = 0.01\r\n",
        "reg = 0.01\r\n",
        "latent_factors = 20"
      ],
      "execution_count": null,
      "outputs": []
    },
    {
      "cell_type": "code",
      "metadata": {
        "id": "bWj0QKdNm1Fm"
      },
      "source": [
        "from collections import defaultdict\r\n",
        "filename = '/content/drive/MyDrive/Colab Notebooks/인턴'\r\n",
        "train_mat = defaultdict(set)\r\n",
        "with open(filename, 'r') as f:\r\n",
        "  for line in f.readlines():\r\n",
        "    u, i = line.split(\" \")\r\n",
        "    u = int(u)\r\n",
        "    i = int(i)\r\n",
        "    train_mat[u].add(i)"
      ],
      "execution_count": null,
      "outputs": []
    },
    {
      "cell_type": "code",
      "metadata": {
        "id": "YLMydi3P8Mi8"
      },
      "source": [
        "num_users = 943\r\n",
        "num_items = 1682\r\n",
        "U = np.random.rand(num_users, latent_factors) * 0.01\r\n",
        "V = np.random.rand(num_items, latent_factors) * 0.01\r\n",
        "biasV = np.random.rand(num_items) * 0.01"
      ],
      "execution_count": null,
      "outputs": []
    },
    {
      "cell_type": "code",
      "metadata": {
        "id": "LD7ZJ-pusy9a"
      },
      "source": [
        "size_u_i = num_users * num_items\r\n",
        "test_set = np.zeros(size_u_i)\r\n",
        "test_data = np.zeros((num_users, num_items))\r\n",
        "filename = '/content/drive/MyDrive/Colab Notebooks/인턴/test.txt'\r\n",
        "file = open(filename, 'r')\r\n",
        "for line in file:\r\n",
        "  line = line.split(' ')\r\n",
        "  user = int(line[0])\r\n",
        "  item = int(line[1])\r\n",
        "  test_data[user - 1][item - 1] = 1\r\n",
        "for u in range(num_users):\r\n",
        "    for i in range(num_items):\r\n",
        "        if int(test_data[u][i]) == 1:\r\n",
        "            test_set[u * num_items + i] = 1\r\n",
        "        else:\r\n",
        "            test_set[u * num_items + i] = 0"
      ],
      "execution_count": null,
      "outputs": []
    },
    {
      "cell_type": "code",
      "metadata": {
        "id": "Dxy69lNOkpT5"
      },
      "source": [
        "def pre_handel(set, predict, item_count): #train_mat, predict_, num_items\r\n",
        "    # Ensure the recommendation cannot be positive items in the training set.\r\n",
        "    for u in set.keys():\r\n",
        "        for j in set[u]:\r\n",
        "            predict[(u - 1) * item_count + j - 1] = 0\r\n",
        "    return predict"
      ],
      "execution_count": null,
      "outputs": []
    },
    {
      "cell_type": "code",
      "metadata": {
        "colab": {
          "base_uri": "https://localhost:8080/",
          "height": 141,
          "referenced_widgets": [
            "02b118a689a845b59dff270edf9f1653",
            "7822afbb5f574bcf8dae9d99daee3bfc",
            "3196bf7d264144a6b446aa1021524c72",
            "f536770895c64fbba1181a6297fc7d60",
            "dfe316d83cfc4dd0a621b0c21b6c4dbf",
            "fc8d8f7e724b44bfaf33d0fdcad63284",
            "a395ec8301f14c9684190fda3f3da496",
            "dd7d02ea8c224f02b7271b520a8f6fb2"
          ]
        },
        "id": "33gHe_qEPclu",
        "outputId": "358f3782-eef2-45b5-bbd9-c11f9680b7f4"
      },
      "source": [
        "# training\r\n",
        "for i in tqdm_notebook(range(num_users)):\r\n",
        "    for user in range(num_users):\r\n",
        "        # sample a user\r\n",
        "        u = random.randint(1, num_users)\r\n",
        "        if u not in train_mat.keys():\r\n",
        "            continue\r\n",
        "        # sample a positive item from the observed items\r\n",
        "        i = random.sample(train_mat[u], 1)[0]\r\n",
        "        # sample a negative item from the unobserved items\r\n",
        "        j = random.randint(1, num_items)\r\n",
        "        while j in train_mat[u]:\r\n",
        "            j = random.randint(1, num_items)\r\n",
        "        u -= 1\r\n",
        "        i -= 1\r\n",
        "        j -= 1\r\n",
        "        r_ui = np.dot(U[u], V[i].T) + biasV[i]\r\n",
        "        r_uj = np.dot(U[u], V[j].T) + biasV[j]\r\n",
        "        r_uij = r_ui - r_uj\r\n",
        "        loss_func = -1.0 / (1 + np.exp(r_uij)) # sigmoid\r\n",
        "        # update U and V\r\n",
        "        U[u] += -lr * (loss_func * (V[i] - V[j]) + reg * U[u])\r\n",
        "        V[i] += -lr * (loss_func * U[u] + reg * V[i])\r\n",
        "        V[j] += -lr * (loss_func * (-U[u]) + reg * V[j])\r\n",
        "        # update biasV\r\n",
        "        biasV[i] += -lr * (loss_func + reg * biasV[i])\r\n",
        "        biasV[j] += -lr * (-loss_func + reg * biasV[j])\r\n",
        "predict_matrix = np.mat(U) * np.mat(V.T)\r\n",
        "# prediction\r\n",
        "predict_ = predict_matrix.getA().reshape(-1)\r\n",
        "predict_ = pre_handel(train_mat, predict_, num_items)\r\n",
        "auc_score = roc_auc_score(test_set, predict_)\r\n",
        "print('AUC:', auc_score)"
      ],
      "execution_count": null,
      "outputs": [
        {
          "output_type": "stream",
          "text": [
            "/usr/local/lib/python3.6/dist-packages/ipykernel_launcher.py:2: TqdmDeprecationWarning: This function will be removed in tqdm==5.0.0\n",
            "Please use `tqdm.notebook.tqdm` instead of `tqdm.tqdm_notebook`\n",
            "  \n"
          ],
          "name": "stderr"
        },
        {
          "output_type": "display_data",
          "data": {
            "application/vnd.jupyter.widget-view+json": {
              "model_id": "02b118a689a845b59dff270edf9f1653",
              "version_minor": 0,
              "version_major": 2
            },
            "text/plain": [
              "HBox(children=(FloatProgress(value=0.0, max=943.0), HTML(value='')))"
            ]
          },
          "metadata": {
            "tags": []
          }
        },
        {
          "output_type": "stream",
          "text": [
            "\n",
            "AUC: 0.8159500589161064\n"
          ],
          "name": "stdout"
        }
      ]
    }
  ]
}