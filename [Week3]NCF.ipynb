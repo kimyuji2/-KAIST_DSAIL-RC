{
  "nbformat": 4,
  "nbformat_minor": 0,
  "metadata": {
    "colab": {
      "name": "[Week3]NCF.ipynb",
      "provenance": [],
      "collapsed_sections": [],
      "machine_shape": "hm",
      "authorship_tag": "ABX9TyNnyV+zMLR4a6eRExYTwdbw"
    },
    "kernelspec": {
      "name": "python3",
      "display_name": "Python 3"
    },
    "accelerator": "GPU"
  },
  "cells": [
    {
      "cell_type": "markdown",
      "metadata": {
        "id": "7N8UYWcd9ic_"
      },
      "source": [
        "### NCF 노션 정리:\r\n",
        "https://www.notion.so/NCF-Neural-Collaborative-Filtering-6c40b27081dc432bad62126d017db246"
      ]
    },
    {
      "cell_type": "markdown",
      "metadata": {
        "id": "tKYsfOH9-x1o"
      },
      "source": [
        "## 0. Define Hyperparameters & Setting\r\n",
        "\r\n",
        "\r\n"
      ]
    },
    {
      "cell_type": "code",
      "metadata": {
        "colab": {
          "base_uri": "https://localhost:8080/"
        },
        "id": "70SlAYUwXqiT",
        "outputId": "3a331c74-33f2-4abc-c54a-094f8a3246aa"
      },
      "source": [
        "from google.colab import drive\r\n",
        "drive.mount('/content/drive')"
      ],
      "execution_count": null,
      "outputs": [
        {
          "output_type": "stream",
          "text": [
            "Mounted at /content/drive\n"
          ],
          "name": "stdout"
        }
      ]
    },
    {
      "cell_type": "code",
      "metadata": {
        "id": "8yOaowKlXZZF"
      },
      "source": [
        "import torch\r\n",
        "import torch.nn as nn\r\n",
        "import torch.nn.functional as F\r\n",
        "import torchvision\r\n",
        "import torchvision.transforms as transforms\r\n",
        "from torch.utils.data import Dataset, DataLoader, SubsetRandomSampler\r\n",
        "\r\n",
        "import scipy.sparse as sp\r\n",
        "from sklearn.utils import shuffle\r\n",
        "import os\r\n",
        "\r\n",
        "import pandas as pd\r\n",
        "import numpy as np\r\n",
        "from tqdm import tqdm_notebook\r\n",
        "import time\r\n",
        "import matplotlib as mpl\r\n",
        "import matplotlib.pyplot as plt\r\n",
        "# import seaborn as sns; sns.set()\r\n",
        "from math import log \r\n",
        "device = torch.device('cuda' if torch.cuda.is_available() else 'cpu')"
      ],
      "execution_count": null,
      "outputs": []
    },
    {
      "cell_type": "code",
      "metadata": {
        "id": "eQnqitKc-xM0"
      },
      "source": [
        "# Hyperparameters\r\n",
        "model_path = './models/'\r\n",
        "num_layers = 6 # num_layers for MLP\r\n",
        "num_factor = 64\r\n",
        "batch_size = 100\r\n",
        "learning_rate = 0.005\r\n",
        "dropout_rate = 0.1\r\n",
        "num_epochs = 20"
      ],
      "execution_count": null,
      "outputs": []
    },
    {
      "cell_type": "markdown",
      "metadata": {
        "id": "sPwF9kK2YrAm"
      },
      "source": [
        "## 1. Load Data"
      ]
    },
    {
      "cell_type": "code",
      "metadata": {
        "id": "nWNa9juJjWRs"
      },
      "source": [
        "path = '/content/drive/MyDrive/Colab Notebooks/[인턴]2020겨울학기_DSAIL/ml-100k/u.data'\r\n",
        "ratings = pd.read_csv(path, sep='\\t', header=None, names=['user_id', 'item_id', 'rating', 'timestamp'], dtype={0: np.int32, 1: np.int32})"
      ],
      "execution_count": null,
      "outputs": []
    },
    {
      "cell_type": "code",
      "metadata": {
        "id": "bdMyd5rI_98u"
      },
      "source": [
        "ratings['rank_latest'] = ratings.groupby(['user_id'])['timestamp'].rank(method='first', ascending=False)\r\n",
        "\r\n",
        "train_ratings = ratings[ratings['rank_latest'] != 1] # 나머지를 train set\r\n",
        "test_ratings = ratings[ratings['rank_latest'] == 1] # 가장 마지막에 평가한 pair을 test set\r\n",
        "\r\n",
        "# drop columns that we no longer need\r\n",
        "train_ratings = train_ratings[['user_id', 'item_id', 'rating']]\r\n",
        "test_ratings = test_ratings[['user_id', 'item_id', 'rating']]"
      ],
      "execution_count": null,
      "outputs": []
    },
    {
      "cell_type": "code",
      "metadata": {
        "id": "0hqLrkxT_-Hz"
      },
      "source": [
        "train_ratings.loc[:, 'rating'] = 1 # implicit"
      ],
      "execution_count": null,
      "outputs": []
    },
    {
      "cell_type": "code",
      "metadata": {
        "id": "7EymthuX_-U7"
      },
      "source": [
        "class Load_Dataset(Dataset):\r\n",
        "  def __init__(self, ratings, all_item_id):\r\n",
        "      self.users, self.items, self.labels = self.get_dataset(ratings, all_item_id)\r\n",
        "\r\n",
        "  def __len__(self):\r\n",
        "      return len(self.users)\r\n",
        "\r\n",
        "  def __getitem__(self, idx):\r\n",
        "      return self.users[idx], self.items[idx], self.labels[idx]\r\n",
        "\r\n",
        "  def get_dataset(self, ratings, all_item_id):\r\n",
        "      users, items, labels = [], [], []\r\n",
        "      user_item_set = set(zip(ratings['user_id'], ratings['item_id']))\r\n",
        "\r\n",
        "      num_negatives = 4\r\n",
        "      # 0중에서 negative item 생성\r\n",
        "      for u, i in user_item_set:\r\n",
        "          # positive instance\r\n",
        "          users.append(u)\r\n",
        "          items.append(i)\r\n",
        "          labels.append(1)\r\n",
        "          # negative instance\r\n",
        "          for _ in range(num_negatives):\r\n",
        "              negative_item = np.random.choice(all_item_id)\r\n",
        "              while (u, negative_item) in user_item_set:\r\n",
        "                  negative_item = np.random.choice(all_item_id) #  interaction이 없는 pair일때까지 sampling\r\n",
        "              users.append(u)\r\n",
        "              items.append(negative_item)\r\n",
        "              labels.append(0)\r\n",
        "\r\n",
        "      return torch.tensor(users), torch.tensor(items), torch.tensor(labels)      "
      ],
      "execution_count": null,
      "outputs": []
    },
    {
      "cell_type": "code",
      "metadata": {
        "id": "p3YDCe-zALC7"
      },
      "source": [
        "all_item_id = ratings['item_id'].unique()\r\n",
        "num_users = ratings['user_id'].max()+1\r\n",
        "num_items = ratings['item_id'].max()+1\r\n",
        "train_loader = DataLoader(Load_Dataset(ratings, all_item_id), batch_size=512, num_workers=4, shuffle=True)\r\n",
        "test_loader = DataLoader(Load_Dataset(test_ratings, all_item_id), batch_size=100, shuffle=False, num_workers=4)"
      ],
      "execution_count": null,
      "outputs": []
    },
    {
      "cell_type": "markdown",
      "metadata": {
        "id": "VcGSMPuaCU2z"
      },
      "source": [
        "## 2. Define GMF, MPL, NCF"
      ]
    },
    {
      "cell_type": "code",
      "metadata": {
        "id": "wFi8yXJ7c58j"
      },
      "source": [
        "class NeuMF(nn.Module):\r\n",
        "  def __init__(self, num_user, num_item, num_layers, num_factor=20, model='NCF', dropout=0.1):\r\n",
        "    super(NeuMF, self).__init__()\r\n",
        "    self.dropout = dropout\r\n",
        "    self.model = model # GMF, MLP, NCF\r\n",
        "    #self.GMF_model = GMF_model\r\n",
        "    #self.MLP_model = MLP_model\r\n",
        "    # GMP Embedding Layer\r\n",
        "    self.embed_user_GMF = nn.Embedding(num_user, num_factor)\r\n",
        "    self.embed_item_GMF = nn.Embedding(num_item, num_factor)\r\n",
        "    # MLP Embedding Layer\r\n",
        "    MLP_size = num_factor * (2 ** (num_layers - 1))\r\n",
        "    self.embed_user_MLP = nn.Embedding(num_user, MLP_size)\r\n",
        "    self.embed_item_MLP = nn.Embedding(num_item, MLP_size)\r\n",
        "\r\n",
        "    # MLP Layers\r\n",
        "    MLP_modules = []\r\n",
        "    for i in range(num_layers):\r\n",
        "      input_size = num_factor * (2 ** (num_layers - i))\r\n",
        "      MLP_modules.append(nn.Dropout(p=self.dropout))\r\n",
        "      MLP_modules.append(nn.Linear(input_size, input_size//2))\r\n",
        "      MLP_modules.append(nn.ReLU())\r\n",
        "    self.MLP_layers = nn.Sequential(*MLP_modules)\r\n",
        "\r\n",
        "    # prediction_size (output FC layer의 input size)\r\n",
        "    if self.model in ['MLP', 'GMF']:\r\n",
        "      predict_size = num_factor\r\n",
        "    else:\r\n",
        "      predict_size = num_factor * 2\r\n",
        "    \r\n",
        "    # prediction_layer\r\n",
        "    self.predict_layer = nn.Linear(predict_size, 1)\r\n",
        "  \r\n",
        "    # Output\r\n",
        "    self.fc = nn.Linear(predict_size, 1)\r\n",
        "\r\n",
        "  # weight initialization\r\n",
        "  def _init_weight_(self):\r\n",
        "    nn.init.normal_(self.embed_user_GMF.weight, std=0.01)\r\n",
        "    nn.init.normal_(self.embed_user_MLP.weight, std=0.01)\r\n",
        "    nn.init.normal_(self.embed_item_GMF.weight, std=0.01)\r\n",
        "    nn.init.normal_(self.embed_item_MLP.weight, std=0.01)\r\n",
        "\r\n",
        "    for m in self.MLP_layers:\r\n",
        "      if isinstance(m, nn.Linear):\r\n",
        "        nn.init.xavier_uniform_(m.weight)\r\n",
        "    nn.init.kaiming_uniform_(self.predict_layer.weight, \r\n",
        "                a=1, nonlinearity='sigmoid')\r\n",
        "\r\n",
        "    for m in self.modules():\r\n",
        "      if isinstance(m, nn.Linear) and m.bias is not None:\r\n",
        "        m.bias.data.zero_()\r\n",
        "     \r\n",
        "  def forward(self, user, item):\r\n",
        "    if not self.model == 'MLP':\r\n",
        "      embed_user_GMF = self.embed_user_GMF(user)\r\n",
        "      embed_item_GMF = self.embed_item_GMF(item)\r\n",
        "      output_GMF = embed_user_GMF * embed_item_GMF\r\n",
        "    if not self.model == 'GMF':\r\n",
        "      embed_user_MLP = self.embed_user_MLP(user)\r\n",
        "      embed_item_MLP = self.embed_item_MLP(item)\r\n",
        "      interaction = torch.cat((embed_user_MLP, embed_item_MLP), -1)\r\n",
        "      output_MLP = self.MLP_layers(interaction)\r\n",
        "\r\n",
        "    if self.model == 'GMF':\r\n",
        "      output = output_GMF\r\n",
        "    elif self.model == 'MLP':\r\n",
        "      output = output_MLP\r\n",
        "    else:\r\n",
        "      output = torch.cat((output_GMF, output_MLP), -1)\r\n",
        "\r\n",
        "    prediction = self.predict_layer(output)\r\n",
        "    return prediction.view(-1)\r\n",
        "model_name= 'NCF'\r\n",
        "model = NeuMF(num_users, num_items, num_layers, num_factor=num_factor, model=model_name).to(device)"
      ],
      "execution_count": null,
      "outputs": []
    },
    {
      "cell_type": "markdown",
      "metadata": {
        "id": "JIA7bVd4wfp_"
      },
      "source": [
        "## 3. Define Loss function & optimizer"
      ]
    },
    {
      "cell_type": "code",
      "metadata": {
        "id": "UT572hIuxDwN"
      },
      "source": [
        "criterion = nn.BCEWithLogitsLoss() # sigmoid필요x\r\n",
        "optimizer = torch.optim.Adam(model.parameters(), lr=learning_rate) "
      ],
      "execution_count": null,
      "outputs": []
    },
    {
      "cell_type": "markdown",
      "metadata": {
        "id": "K8UYCA1PdnIi"
      },
      "source": [
        "## 4. Define Evaluation Function"
      ]
    },
    {
      "cell_type": "code",
      "metadata": {
        "id": "a16iOxkadTVA"
      },
      "source": [
        "# Metric1: HR\r\n",
        "def hit(gt_item, pred_items):\r\n",
        "\tif gt_item in pred_items:\r\n",
        "\t\treturn 1\r\n",
        "\treturn 0\r\n",
        "\r\n",
        "# Metric2: NDCG\r\n",
        "def ndcg(gt_item, pred_items):\r\n",
        "\tif gt_item in pred_items:\r\n",
        "\t\tindex = pred_items.index(gt_item) \r\n",
        "\t\treturn np.reciprocal(np.log2(index+2)) # 역수\r\n",
        "\treturn 0\r\n",
        "\r\n",
        "def metrics(model, test_loader, top_k=10): \r\n",
        "\tHR, NDCG = [], []\r\n",
        "\tfor user, item, label in test_loader:\r\n",
        "\t\tuser = user.to(device)\r\n",
        "\t\titem = item.to(device)\r\n",
        "\r\n",
        "\t\tpredictions = model(user, item)\r\n",
        "\t\t_, indices = torch.topk(predictions, top_k)\r\n",
        "\t\trecommends = torch.take(item, indices).to(device).detach().cpu().numpy().tolist()\r\n",
        "\r\n",
        "\t\tgt_item = item[0].item()\r\n",
        "\t\tHR.append(hit(gt_item, recommends))\r\n",
        "\t\tNDCG.append(ndcg(gt_item, recommends))\r\n",
        "\r\n",
        "\treturn np.mean(HR), np.mean(NDCG)"
      ],
      "execution_count": null,
      "outputs": []
    },
    {
      "cell_type": "markdown",
      "metadata": {
        "id": "RYCw3gU-d9Dg"
      },
      "source": [
        "## 5. Train Model & Evaluate"
      ]
    },
    {
      "cell_type": "code",
      "metadata": {
        "colab": {
          "base_uri": "https://localhost:8080/"
        },
        "id": "rwB_2yproNoB",
        "outputId": "64f50c9b-8838-4971-b86e-8a761bee7eaa"
      },
      "source": [
        "count, best_hr = 0, 0\r\n",
        "error = []\r\n",
        "HR_list = []\r\n",
        "NDCG_list = []\r\n",
        "for epoch in range(num_epochs):\r\n",
        "  print('------ Epoch [{}/{}] ------'.format(epoch+1, num_epochs))\r\n",
        "  model.train() # train mode\r\n",
        "  start = time.time()\r\n",
        "  batch_loss = 0.0\r\n",
        "  for i, (user, item, label) in enumerate(train_loader):\r\n",
        "    user = user.to(device)\r\n",
        "    item = item.to(device)\r\n",
        "    label = label.float().to(device)\r\n",
        "\r\n",
        "    model.zero_grad()\r\n",
        "    prediction = model(user, item)\r\n",
        "    loss = criterion(prediction, label)\r\n",
        "    loss.backward()\r\n",
        "    optimizer.step()\r\n",
        "    count += 1\r\n",
        "  batch_loss += loss.item()\r\n",
        "  error.append(np.mean(batch_loss))\r\n",
        "\r\n",
        "  model.eval() # eval mode\r\n",
        "  HR, NDCG = metrics(model, test_loader, top_k = 10)\r\n",
        "\r\n",
        "  end = time.time()\r\n",
        "  if i % 50 == 0 or (i+1)==len(train_loader):\r\n",
        "    print('Step [{}/{}], Loss: {:.4f}'.format(i+1, len(train_loader), loss.item()))\r\n",
        "  print(\"HR: {:.3f} \\ tNDCG: {:.3f}\".format(np.mean(HR), np.mean(NDCG)))\r\n",
        "  HR_list.append(np.mean(HR))\r\n",
        "  NDCG_list.append(np.mean(NDCG))\r\n",
        "  if HR > best_hr:\r\n",
        "    best_hr, best_ndcg, best_epoch = HR, NDCG, epoch\r\n",
        "    if not os.path.exists(model_path):\r\n",
        "      os.mkdir(model_path)\r\n",
        "    torch.save(model, '{}{}.pth'.format(model_path, model_name))\r\n",
        "\r\n",
        "print(\"End. Best epoch {:03d}: HR = {:.3f}, NDCG = {:.3f}\".format(best_epoch, best_hr, best_ndcg))"
      ],
      "execution_count": null,
      "outputs": [
        {
          "output_type": "stream",
          "text": [
            "------ Epoch [1/20] ------\n",
            "Step [977/977], Loss: 0.2963\n",
            "HR: 0.188 \\ tNDCG: 0.107\n",
            "------ Epoch [2/20] ------\n",
            "Step [977/977], Loss: 0.3027\n",
            "HR: 0.250 \\ tNDCG: 0.147\n",
            "------ Epoch [3/20] ------\n",
            "Step [977/977], Loss: 0.2465\n",
            "HR: 0.229 \\ tNDCG: 0.114\n",
            "------ Epoch [4/20] ------\n",
            "Step [977/977], Loss: 0.2374\n",
            "HR: 0.333 \\ tNDCG: 0.138\n",
            "------ Epoch [5/20] ------\n",
            "Step [977/977], Loss: 0.2526\n",
            "HR: 0.354 \\ tNDCG: 0.141\n",
            "------ Epoch [6/20] ------\n",
            "Step [977/977], Loss: 0.2490\n",
            "HR: 0.396 \\ tNDCG: 0.160\n",
            "------ Epoch [7/20] ------\n",
            "Step [977/977], Loss: 0.2201\n",
            "HR: 0.375 \\ tNDCG: 0.152\n",
            "------ Epoch [8/20] ------\n",
            "Step [977/977], Loss: 0.1671\n",
            "HR: 0.375 \\ tNDCG: 0.151\n",
            "------ Epoch [9/20] ------\n",
            "Step [977/977], Loss: 0.1667\n",
            "HR: 0.396 \\ tNDCG: 0.174\n",
            "------ Epoch [10/20] ------\n",
            "Step [977/977], Loss: 0.1212\n",
            "HR: 0.312 \\ tNDCG: 0.120\n",
            "------ Epoch [11/20] ------\n",
            "Step [977/977], Loss: 0.1216\n",
            "HR: 0.271 \\ tNDCG: 0.107\n",
            "------ Epoch [12/20] ------\n",
            "Step [977/977], Loss: 0.1470\n",
            "HR: 0.333 \\ tNDCG: 0.135\n",
            "------ Epoch [13/20] ------\n",
            "Step [977/977], Loss: 0.1596\n",
            "HR: 0.333 \\ tNDCG: 0.130\n",
            "------ Epoch [14/20] ------\n",
            "Step [977/977], Loss: 0.1207\n",
            "HR: 0.396 \\ tNDCG: 0.161\n",
            "------ Epoch [15/20] ------\n",
            "Step [977/977], Loss: 0.0745\n",
            "HR: 0.375 \\ tNDCG: 0.156\n",
            "------ Epoch [16/20] ------\n",
            "Step [977/977], Loss: 0.0884\n",
            "HR: 0.354 \\ tNDCG: 0.141\n",
            "------ Epoch [17/20] ------\n",
            "Step [977/977], Loss: 0.0282\n",
            "HR: 0.333 \\ tNDCG: 0.128\n",
            "------ Epoch [18/20] ------\n",
            "Step [977/977], Loss: 0.1129\n",
            "HR: 0.333 \\ tNDCG: 0.139\n",
            "------ Epoch [19/20] ------\n",
            "Step [977/977], Loss: 0.0274\n",
            "HR: 0.354 \\ tNDCG: 0.148\n",
            "------ Epoch [20/20] ------\n",
            "Step [977/977], Loss: 0.0395\n",
            "HR: 0.312 \\ tNDCG: 0.123\n",
            "End. Best epoch 005: HR = 0.396, NDCG = 0.160\n"
          ],
          "name": "stdout"
        }
      ]
    },
    {
      "cell_type": "code",
      "metadata": {
        "id": "qhC34LzankQ8",
        "colab": {
          "base_uri": "https://localhost:8080/",
          "height": 295
        },
        "outputId": "771f57e2-2aec-438b-bd7f-def04d05c48f"
      },
      "source": [
        "plt.plot(error)\r\n",
        "plt.title('NCF loss')\r\n",
        "plt.ylabel('loss')\r\n",
        "plt.xlabel('epoch')\r\n",
        "plt.show()"
      ],
      "execution_count": null,
      "outputs": [
        {
          "output_type": "display_data",
          "data": {
            "image/png": "[encoded data removed]",
            "text/plain": [
              "<Figure size 432x288 with 1 Axes>"
            ]
          },
          "metadata": {
            "tags": [],
            "needs_background": "light"
          }
        }
      ]
    },
    {
      "cell_type": "code",
      "metadata": {
        "colab": {
          "base_uri": "https://localhost:8080/"
        },
        "id": "dfMH9fQwikgL",
        "outputId": "5bf2672c-03c0-4d5a-9811-046543e5da8c"
      },
      "source": [
        "print(\"Best epoch {:03d}: HR = {:.3f}, NDCG = {:.3f}\".format(best_epoch, best_hr, best_ndcg))"
      ],
      "execution_count": null,
      "outputs": [
        {
          "output_type": "stream",
          "text": [
            "Best epoch 005: HR = 0.396, NDCG = 0.160\n"
          ],
          "name": "stdout"
        }
      ]
    },
    {
      "cell_type": "code",
      "metadata": {
        "colab": {
          "base_uri": "https://localhost:8080/",
          "height": 295
        },
        "id": "8gDHH-fTio6m",
        "outputId": "779b2648-12d2-479c-ff33-40bac9075269"
      },
      "source": [
        "plt.plot(HR_list)\r\n",
        "plt.plot(NDCG_list)\r\n",
        "plt.title('HR&NDCG')\r\n",
        "plt.ylabel('evaluation')\r\n",
        "plt.xlabel('epoch')\r\n",
        "plt.show()"
      ],
      "execution_count": null,
      "outputs": [
        {
          "output_type": "display_data",
          "data": {
            "image/png": "[encoded data removed]",
            "text/plain": [
              "<Figure size 432x288 with 1 Axes>"
            ]
          },
          "metadata": {
            "tags": [],
            "needs_background": "light"
          }
        }
      ]
    },
    {
      "cell_type": "code",
      "metadata": {
        "id": "5qeWMed6kV3z"
      },
      "source": [
        ""
      ],
      "execution_count": null,
      "outputs": []
    }
  ]
}