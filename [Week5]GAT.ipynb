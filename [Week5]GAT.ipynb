{
  "nbformat": 4,
  "nbformat_minor": 0,
  "metadata": {
    "colab": {
      "name": "[Week5]GAT.ipynb",
      "provenance": [],
      "authorship_tag": "ABX9TyNEl7WinPKjEb0Bj0ZDT3XL",
      "include_colab_link": true
    },
    "kernelspec": {
      "name": "python3",
      "display_name": "Python 3"
    },
    "accelerator": "GPU"
  },
  "cells": [
    {
      "cell_type": "markdown",
      "metadata": {
        "id": "view-in-github",
        "colab_type": "text"
      },
      "source": [
        "<a href=\"https://colab.research.google.com/github/kimyuji2/-KAIST_DSAIL-RC/blob/main/%5BWeek5%5DGAT.ipynb\" target=\"_parent\"><img src=\"https://colab.research.google.com/assets/colab-badge.svg\" alt=\"Open In Colab\"/></a>"
      ]
    },
    {
      "cell_type": "markdown",
      "metadata": {
        "id": "lH-w7HVu7E3A"
      },
      "source": [
        "### GAT 노션 정리\r\n",
        "https://www.notion.so/GCN-Semi-Supervised-Classification-with-Graph-Convolutional-Network-6162397d48964a6baece04c3b7a5ecaf"
      ]
    },
    {
      "cell_type": "code",
      "metadata": {
        "colab": {
          "base_uri": "https://localhost:8080/"
        },
        "id": "qnP6JFwmSimJ",
        "outputId": "d49a5c56-adbe-4fb2-93fc-7c7838724923"
      },
      "source": [
        "pip install dgl"
      ],
      "execution_count": null,
      "outputs": [
        {
          "output_type": "stream",
          "text": [
            "Collecting dgl\n",
            "\u001b[?25l  Downloading https://files.pythonhosted.org/packages/46/62/da7146c0e46f93dd1f17cccea3010def155a1f479c0b036b604e952f321f/dgl-0.5.3-cp36-cp36m-manylinux1_x86_64.whl (3.6MB)\n",
            "\u001b[K     |████████████████████████████████| 3.6MB 5.8MB/s \n",
            "\u001b[?25hRequirement already satisfied: numpy>=1.14.0 in /usr/local/lib/python3.6/dist-packages (from dgl) (1.19.5)\n",
            "Requirement already satisfied: scipy>=1.1.0 in /usr/local/lib/python3.6/dist-packages (from dgl) (1.4.1)\n",
            "Requirement already satisfied: networkx>=2.1 in /usr/local/lib/python3.6/dist-packages (from dgl) (2.5)\n",
            "Requirement already satisfied: requests>=2.19.0 in /usr/local/lib/python3.6/dist-packages (from dgl) (2.23.0)\n",
            "Requirement already satisfied: decorator>=4.3.0 in /usr/local/lib/python3.6/dist-packages (from networkx>=2.1->dgl) (4.4.2)\n",
            "Requirement already satisfied: urllib3!=1.25.0,!=1.25.1,<1.26,>=1.21.1 in /usr/local/lib/python3.6/dist-packages (from requests>=2.19.0->dgl) (1.24.3)\n",
            "Requirement already satisfied: idna<3,>=2.5 in /usr/local/lib/python3.6/dist-packages (from requests>=2.19.0->dgl) (2.10)\n",
            "Requirement already satisfied: certifi>=2017.4.17 in /usr/local/lib/python3.6/dist-packages (from requests>=2.19.0->dgl) (2020.12.5)\n",
            "Requirement already satisfied: chardet<4,>=3.0.2 in /usr/local/lib/python3.6/dist-packages (from requests>=2.19.0->dgl) (3.0.4)\n",
            "Installing collected packages: dgl\n",
            "Successfully installed dgl-0.5.3\n"
          ],
          "name": "stdout"
        }
      ]
    },
    {
      "cell_type": "code",
      "metadata": {
        "colab": {
          "base_uri": "https://localhost:8080/"
        },
        "id": "6vRJymvuScgj",
        "outputId": "de45727f-9056-4247-c962-d269ac69f077"
      },
      "source": [
        "import time\r\n",
        "import numpy as np\r\n",
        "\r\n",
        "import torch\r\n",
        "import torch.nn.functional as F\r\n",
        "import torch.optim as optim\r\n",
        "import torch.nn as nn\r\n",
        "\r\n",
        "# Deep Graph Library\r\n",
        "from dgl import DGLGraph\r\n",
        "import dgl\r\n",
        "\r\n",
        "from dgl.data import CitationGraphDataset\r\n",
        "citeseer = CitationGraphDataset('citeseer')"
      ],
      "execution_count": null,
      "outputs": [
        {
          "output_type": "stream",
          "text": [
            "DGL backend not selected or invalid.  Assuming PyTorch for now.\n",
            "Using backend: pytorch\n"
          ],
          "name": "stderr"
        },
        {
          "output_type": "stream",
          "text": [
            "Setting the default backend to \"pytorch\". You can change it in the ~/.dgl/config.json file or export the DGLBACKEND environment variable.  Valid options are: pytorch, mxnet, tensorflow (all lowercase)\n",
            "Downloading /root/.dgl/citeseer.zip from https://data.dgl.ai/dataset/citeseer.zip...\n",
            "Extracting file to /root/.dgl/citeseer\n",
            "Finished data loading and preprocessing.\n",
            "  NumNodes: 3327\n",
            "  NumEdges: 9228\n",
            "  NumFeats: 3703\n",
            "  NumClasses: 6\n",
            "  NumTrainingSamples: 120\n",
            "  NumValidationSamples: 500\n",
            "  NumTestSamples: 1000\n",
            "Done saving data into cached files.\n"
          ],
          "name": "stdout"
        },
        {
          "output_type": "stream",
          "text": [
            "/usr/local/lib/python3.6/dist-packages/dgl/data/citation_graph.py:258: RuntimeWarning: divide by zero encountered in power\n",
            "  r_inv = np.power(rowsum, -1).flatten()\n"
          ],
          "name": "stderr"
        }
      ]
    },
    {
      "cell_type": "markdown",
      "metadata": {
        "id": "Y2i2I-1FUAe4"
      },
      "source": [
        "## 1. Load Data"
      ]
    },
    {
      "cell_type": "code",
      "metadata": {
        "id": "M7umQf3UTbMF"
      },
      "source": [
        "def load_citeseer_data():\r\n",
        "    data = citeseer\r\n",
        "    features = torch.FloatTensor(data.features)\r\n",
        "    labels = torch.LongTensor(data.labels)\r\n",
        "    mask = torch.BoolTensor(data.train_mask)\r\n",
        "    g = data.graph\r\n",
        "    \r\n",
        "    # add self loop\r\n",
        "    # GAT는 i <-> i의 self-attention도 종합하기 때문에 해당 정보를 edge에 추가해준다\r\n",
        "    g.remove_edges_from(nx.selfloop_edges(g))\r\n",
        "    g = DGLGraph(g)\r\n",
        "    g.add_edges(g.nodes(), g.nodes())\r\n",
        "    return g, features, labels, mask"
      ],
      "execution_count": null,
      "outputs": []
    },
    {
      "cell_type": "code",
      "metadata": {
        "colab": {
          "base_uri": "https://localhost:8080/"
        },
        "id": "J9qPa744UKMj",
        "outputId": "49176e15-339f-47f2-ca41-9adaa0f54c1f"
      },
      "source": [
        "citeseer.features.shape"
      ],
      "execution_count": null,
      "outputs": [
        {
          "output_type": "stream",
          "text": [
            "/usr/local/lib/python3.6/dist-packages/dgl/data/utils.py:285: UserWarning: Property dataset.feat will be deprecated, please use g.ndata['feat'] instead.\n",
            "  warnings.warn('Property {} will be deprecated, please use {} instead.'.format(old, new))\n"
          ],
          "name": "stderr"
        },
        {
          "output_type": "execute_result",
          "data": {
            "text/plain": [
              "torch.Size([3327, 3703])"
            ]
          },
          "metadata": {
            "tags": []
          },
          "execution_count": 15
        }
      ]
    },
    {
      "cell_type": "code",
      "metadata": {
        "colab": {
          "base_uri": "https://localhost:8080/"
        },
        "id": "BqR8tJB7UKEe",
        "outputId": "74c24741-657d-42e1-b056-f328fcccd581"
      },
      "source": [
        "citeseer.labels.shape"
      ],
      "execution_count": null,
      "outputs": [
        {
          "output_type": "stream",
          "text": [
            "/usr/local/lib/python3.6/dist-packages/dgl/data/utils.py:285: UserWarning: Property dataset.label will be deprecated, please use g.ndata['label'] instead.\n",
            "  warnings.warn('Property {} will be deprecated, please use {} instead.'.format(old, new))\n"
          ],
          "name": "stderr"
        },
        {
          "output_type": "execute_result",
          "data": {
            "text/plain": [
              "(3327,)"
            ]
          },
          "metadata": {
            "tags": []
          },
          "execution_count": 16
        }
      ]
    },
    {
      "cell_type": "code",
      "metadata": {
        "colab": {
          "base_uri": "https://localhost:8080/"
        },
        "id": "Obe4-7aKU_kg",
        "outputId": "24bf0ac1-9648-4f97-909b-6c377e1a9ebd"
      },
      "source": [
        "citeseer.train_mask.shape"
      ],
      "execution_count": null,
      "outputs": [
        {
          "output_type": "stream",
          "text": [
            "/usr/local/lib/python3.6/dist-packages/dgl/data/utils.py:285: UserWarning: Property dataset.train_mask will be deprecated, please use g.ndata['train_mask'] instead.\n",
            "  warnings.warn('Property {} will be deprecated, please use {} instead.'.format(old, new))\n"
          ],
          "name": "stderr"
        },
        {
          "output_type": "execute_result",
          "data": {
            "text/plain": [
              "(3327,)"
            ]
          },
          "metadata": {
            "tags": []
          },
          "execution_count": 17
        }
      ]
    },
    {
      "cell_type": "code",
      "metadata": {
        "colab": {
          "base_uri": "https://localhost:8080/"
        },
        "id": "PljatCivVERJ",
        "outputId": "a1e727ed-ce97-4815-fce7-1d30a3131051"
      },
      "source": [
        "citeseer.graph"
      ],
      "execution_count": null,
      "outputs": [
        {
          "output_type": "stream",
          "text": [
            "/usr/local/lib/python3.6/dist-packages/dgl/data/utils.py:285: UserWarning: Property dataset.graph will be deprecated, please use dataset[0] instead.\n",
            "  warnings.warn('Property {} will be deprecated, please use {} instead.'.format(old, new))\n"
          ],
          "name": "stderr"
        },
        {
          "output_type": "execute_result",
          "data": {
            "text/plain": [
              "<networkx.classes.digraph.DiGraph at 0x7fcda8d582b0>"
            ]
          },
          "metadata": {
            "tags": []
          },
          "execution_count": 19
        }
      ]
    },
    {
      "cell_type": "markdown",
      "metadata": {
        "id": "gChvzy5gUJkx"
      },
      "source": [
        "## 2. Define a model"
      ]
    },
    {
      "cell_type": "code",
      "metadata": {
        "id": "8X4g5H_1Saw0"
      },
      "source": [
        "class GATLayer(nn.Module):\r\n",
        "    def __init__(self, g, in_dim, out_dim):\r\n",
        "        super(GATLayer, self).__init__()\r\n",
        "        self.g = g\r\n",
        "        \r\n",
        "        # Expression 3\r\n",
        "        # F-Dimension의 피쳐 스페이스가 single fc-layer 지나며 F'-Dimension으로 임베딩 \r\n",
        "        self.fc = nn.Linear(in_dim, out_dim, bias=False)\r\n",
        "        # i노드의 F' + j노드의 F' 길이의 벡터를 합쳐서 Attention Coefficient를 리턴 \t\r\n",
        "        self.attn_fc = nn.Linear(2 * out_dim, 1, bias=False)\r\n",
        "\r\n",
        "        \r\n",
        "    # Expression 3에서 어텐션으로 넘어온 값을 Leaky Relu 적용하는 Layer\r\n",
        "\t# src는 source vertex, dst는 destination vertex의 약자\t\r\n",
        "    def edge_attention(self, edges):\r\n",
        "        z2 = torch.cat([edges.src['z'], edges.dst['z']], dim=1)\r\n",
        "        a = self.attn_fc(z2)\r\n",
        "        return {'e': F.leaky_relu(a)}\r\n",
        "\r\n",
        "    \r\n",
        "    # dgl에서는 모든 노드에 함수를 병렬 적용 할 수 있는 update_all 이라는 api를 제공한다.\r\n",
        "    # 해당 api 사용을 위해 텐서를 흘려보내는 역할을 한다고 한다.\r\n",
        "\t# 구체적인 update_all의 알고리즘은 잘 모르겠으니 그냥 input 함수라고 생각하자.\r\n",
        "    def message_func(self, edges):\r\n",
        "        return {'z': edges.src['z'], 'e': edges.data['e']}\r\n",
        "\r\n",
        "\r\n",
        "    # update_all에서는 흘려보내진 텐서를 각 노드의 mailbox라는 오브젝트에 저장하나 보다.\r\n",
        "    # 각 노드에는 여러 이웃이 있으니 mailbox에는 여러개의 attention coefficient가 있다.\r\n",
        "    # Expression 4에서 softmax 계수를 가중하여 element wise하게 합한다.  \r\n",
        "    def reduce_func(self, nodes):\r\n",
        "        alpha = F.softmax(nodes.mailbox['e'], dim=1)\r\n",
        "        h = torch.sum(alpha * nodes.mailbox['z'], dim=1)\r\n",
        "        return {'h': h}\r\n",
        "\r\n",
        "    \r\n",
        "    # (1) fc layer를 통해 피쳐를 임베딩\r\n",
        "    # (2) 그레프에 임베딩 된 벡터를 저장\r\n",
        "    # (3) apply_edges api를 모든 엣지에 적용하여 i - j 간의 attention coefficeint를 계산\r\n",
        "    # (4) 그래프에 저장된 z와e를 텐서로 reduce_func에 전달하여 새로운 h' 를 얻는다.\r\n",
        "    def forward(self, h):\r\n",
        "        z = self.fc(h)\r\n",
        "        self.g.ndata['z'] = z\r\n",
        "        self.g.apply_edges(self.edge_attention)\r\n",
        "        self.g.update_all(self.message_func, self.reduce_func)\r\n",
        "        return self.g.ndata.pop('h')"
      ],
      "execution_count": null,
      "outputs": []
    },
    {
      "cell_type": "code",
      "metadata": {
        "id": "Ijj1048DTVju"
      },
      "source": [
        "class MultiHeadGATLayer(nn.Module):\r\n",
        "    def __init__(self, g, in_dim, out_dim, num_heads, merge='cat'):\r\n",
        "        super(MultiHeadGATLayer, self).__init__()\r\n",
        "        self.heads = nn.ModuleList()\r\n",
        "        for i in range(num_heads):\r\n",
        "            self.heads.append(GATLayer(g, in_dim, out_dim))\r\n",
        "        self.merge = merge\r\n",
        "\r\n",
        "    def forward(self, h):\r\n",
        "        head_outs = [attn_head(h) for attn_head in self.heads]\r\n",
        "        if self.merge == 'cat':\r\n",
        "            # concat on the output feature dimension (dim=1)\r\n",
        "            return torch.cat(head_outs, dim=1)\r\n",
        "        else:\r\n",
        "            # merge using average\r\n",
        "            return torch.mean(torch.stack(head_outs))"
      ],
      "execution_count": null,
      "outputs": []
    },
    {
      "cell_type": "code",
      "metadata": {
        "id": "IpU-pLkaTWd7"
      },
      "source": [
        "class GAT(nn.Module):\r\n",
        "    \r\n",
        "    # 두 Layer의 인풋과 아웃풋이 다른 것을 볼 수 있다\r\n",
        "    # 원래 노드의 feature 개수가 F개라고 했을 때, layer를 한 번 지나며 F'개로 임베딩했다.\r\n",
        "    # 이것을 num_heads(attention 개수) 만큼 multi-head하게 보아 K*F' 길이로 cat했다.\r\n",
        "    # 두 번째 layer에서는 K를 1로 설정하여 single-head attention을 적용했다.  \r\n",
        "    def __init__(self, g, in_dim, hidden_dim, out_dim, num_heads):\r\n",
        "        super(GAT, self).__init__()\r\n",
        "        self.layer1 = MultiHeadGATLayer(g, in_dim, hidden_dim, num_heads)\r\n",
        "        self.layer2 = MultiHeadGATLayer(g, hidden_dim * num_heads, out_dim, 1)\r\n",
        "\r\n",
        "    def forward(self, h):\r\n",
        "        h = self.layer1(h)\r\n",
        "        h = F.elu(h)\r\n",
        "        h = self.layer2(h)\r\n",
        "        return h"
      ],
      "execution_count": null,
      "outputs": []
    },
    {
      "cell_type": "code",
      "metadata": {
        "colab": {
          "base_uri": "https://localhost:8080/"
        },
        "id": "I9d2qR5KTdkC",
        "outputId": "5c8d55cc-313a-44c4-fad8-e5c52bf63d4d"
      },
      "source": [
        "g, features, labels, mask = load_citeseer_data()\r\n",
        "train_loss = []\r\n",
        "\r\n",
        "# create the model, 2 heads, each head has hidden size 8\r\n",
        "net = GAT(g,\r\n",
        "          in_dim=features.size()[1],\r\n",
        "          hidden_dim=8,\r\n",
        "          out_dim=6,\r\n",
        "          num_heads=2)\r\n",
        "\r\n",
        "# create optimizer\r\n",
        "optimizer = torch.optim.Adam(net.parameters(), lr=1e-3)\r\n",
        "\r\n",
        "# main loop\r\n",
        "dur = []\r\n",
        "for epoch in range(1000):\r\n",
        "    if epoch >= 3:\r\n",
        "        t0 = time.time()\r\n",
        "\r\n",
        "    logits = net(features)\r\n",
        "    logp = F.log_softmax(logits, 1)\r\n",
        "    loss = F.nll_loss(logp[mask], labels[mask])\r\n",
        "\r\n",
        "    optimizer.zero_grad()\r\n",
        "    loss.backward()\r\n",
        "    optimizer.step()\r\n",
        "\r\n",
        "    if epoch >= 3:\r\n",
        "        dur.append(time.time() - t0)\r\n",
        "        \r\n",
        "    if epoch % 100 == 0:\r\n",
        "      print(\"Epoch {:05d} | Loss {:.4f} | Time(s) {:.4f}\".format(\r\n",
        "          epoch, loss.item(), np.mean(dur)))\r\n",
        "    train_loss.append(loss)"
      ],
      "execution_count": null,
      "outputs": [
        {
          "output_type": "stream",
          "text": [
            "/usr/local/lib/python3.6/dist-packages/dgl/data/utils.py:285: UserWarning: Property dataset.feat will be deprecated, please use g.ndata['feat'] instead.\n",
            "  warnings.warn('Property {} will be deprecated, please use {} instead.'.format(old, new))\n",
            "/usr/local/lib/python3.6/dist-packages/dgl/data/utils.py:285: UserWarning: Property dataset.label will be deprecated, please use g.ndata['label'] instead.\n",
            "  warnings.warn('Property {} will be deprecated, please use {} instead.'.format(old, new))\n",
            "/usr/local/lib/python3.6/dist-packages/dgl/data/utils.py:285: UserWarning: Property dataset.train_mask will be deprecated, please use g.ndata['train_mask'] instead.\n",
            "  warnings.warn('Property {} will be deprecated, please use {} instead.'.format(old, new))\n",
            "/usr/local/lib/python3.6/dist-packages/dgl/data/utils.py:285: UserWarning: Property dataset.graph will be deprecated, please use dataset[0] instead.\n",
            "  warnings.warn('Property {} will be deprecated, please use {} instead.'.format(old, new))\n",
            "/usr/local/lib/python3.6/dist-packages/dgl/base.py:45: DGLWarning: Recommend creating graphs by `dgl.graph(data)` instead of `dgl.DGLGraph(data)`.\n",
            "  return warnings.warn(message, category=category, stacklevel=1)\n",
            "/usr/local/lib/python3.6/dist-packages/numpy/core/fromnumeric.py:3373: RuntimeWarning: Mean of empty slice.\n",
            "  out=out, **kwargs)\n",
            "/usr/local/lib/python3.6/dist-packages/numpy/core/_methods.py:170: RuntimeWarning: invalid value encountered in double_scalars\n",
            "  ret = ret.dtype.type(ret / rcount)\n"
          ],
          "name": "stderr"
        },
        {
          "output_type": "stream",
          "text": [
            "Epoch 00000 | Loss 1.7917 | Time(s) nan\n",
            "Epoch 00100 | Loss 1.6258 | Time(s) 0.1818\n",
            "Epoch 00200 | Loss 1.2514 | Time(s) 0.1810\n",
            "Epoch 00300 | Loss 0.7947 | Time(s) 0.1806\n",
            "Epoch 00400 | Loss 0.4392 | Time(s) 0.1805\n",
            "Epoch 00500 | Loss 0.2433 | Time(s) 0.1802\n",
            "Epoch 00600 | Loss 0.1396 | Time(s) 0.1803\n",
            "Epoch 00700 | Loss 0.0868 | Time(s) 0.1814\n",
            "Epoch 00800 | Loss 0.0583 | Time(s) 0.1820\n",
            "Epoch 00900 | Loss 0.0415 | Time(s) 0.1826\n"
          ],
          "name": "stdout"
        }
      ]
    },
    {
      "cell_type": "code",
      "metadata": {
        "id": "I-SCg_5OThAV"
      },
      "source": [
        "import matplotlib.pyplot as plt\r\n",
        "plt.plot(train_loss_arr)\r\n",
        "display(plt.show())\r\n"
      ],
      "execution_count": null,
      "outputs": []
    },
    {
      "cell_type": "code",
      "metadata": {
        "colab": {
          "base_uri": "https://localhost:8080/"
        },
        "id": "DPlfNmyWUY2g",
        "outputId": "3958e042-95dc-4c82-9fb8-e7feaaf44273"
      },
      "source": [
        "mask = torch.BoolTensor(citeseer.test_mask)\r\n",
        "\r\n",
        "pred = np.argmax(logp[mask].detach().numpy(), axis = 1)\r\n",
        "answ = labels[mask].numpy()\r\n",
        "np.sum([1 if pred[i] == answ[i] else 0 for i in range(len(pred))]) / len(pred) * 100\r\n"
      ],
      "execution_count": null,
      "outputs": [
        {
          "output_type": "stream",
          "text": [
            "/usr/local/lib/python3.6/dist-packages/dgl/data/utils.py:285: UserWarning: Property dataset.test_mask will be deprecated, please use g.ndata['test_mask'] instead.\n",
            "  warnings.warn('Property {} will be deprecated, please use {} instead.'.format(old, new))\n"
          ],
          "name": "stderr"
        },
        {
          "output_type": "execute_result",
          "data": {
            "text/plain": [
              "56.699999999999996"
            ]
          },
          "metadata": {
            "tags": []
          },
          "execution_count": 20
        }
      ]
    },
    {
      "cell_type": "code",
      "metadata": {
        "id": "D59ZKLbOUyGH"
      },
      "source": [
        ""
      ],
      "execution_count": null,
      "outputs": []
    }
  ]
}